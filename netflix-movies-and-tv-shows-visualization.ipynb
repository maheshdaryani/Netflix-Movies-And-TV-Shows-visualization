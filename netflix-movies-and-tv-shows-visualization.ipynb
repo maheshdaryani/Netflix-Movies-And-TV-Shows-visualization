{
 "cells": [
  {
   "cell_type": "code",
   "execution_count": 1,
   "metadata": {
    "execution": {
     "iopub.execute_input": "2021-03-09T08:47:37.808125Z",
     "iopub.status.busy": "2021-03-09T08:47:37.807479Z",
     "iopub.status.idle": "2021-03-09T08:47:38.717782Z",
     "shell.execute_reply": "2021-03-09T08:47:38.716893Z"
    },
    "papermill": {
     "duration": 0.955103,
     "end_time": "2021-03-09T08:47:38.718004",
     "exception": false,
     "start_time": "2021-03-09T08:47:37.762901",
     "status": "completed"
    },
    "slideshow": {
     "slide_type": "skip"
    },
    "tags": []
   },
   "outputs": [],
   "source": [
    "# import all packages and set plots to be embedded inline\n",
    "import numpy as np\n",
    "import pandas as pd\n",
    "import matplotlib.pyplot as plt\n",
    "import seaborn as sb\n",
    "from scipy.stats import norm\n",
    "\n",
    "%matplotlib inline"
   ]
  },
  {
   "cell_type": "code",
   "execution_count": 2,
   "metadata": {
    "execution": {
     "iopub.execute_input": "2021-03-09T08:47:38.801559Z",
     "iopub.status.busy": "2021-03-09T08:47:38.800866Z",
     "iopub.status.idle": "2021-03-09T08:47:38.958521Z",
     "shell.execute_reply": "2021-03-09T08:47:38.959029Z"
    },
    "papermill": {
     "duration": 0.201384,
     "end_time": "2021-03-09T08:47:38.959198",
     "exception": false,
     "start_time": "2021-03-09T08:47:38.757814",
     "status": "completed"
    },
    "slideshow": {
     "slide_type": "subslide"
    },
    "tags": []
   },
   "outputs": [
    {
     "data": {
      "text/html": [
       "<div>\n",
       "<style scoped>\n",
       "    .dataframe tbody tr th:only-of-type {\n",
       "        vertical-align: middle;\n",
       "    }\n",
       "\n",
       "    .dataframe tbody tr th {\n",
       "        vertical-align: top;\n",
       "    }\n",
       "\n",
       "    .dataframe thead th {\n",
       "        text-align: right;\n",
       "    }\n",
       "</style>\n",
       "<table border=\"1\" class=\"dataframe\">\n",
       "  <thead>\n",
       "    <tr style=\"text-align: right;\">\n",
       "      <th></th>\n",
       "      <th>show_id</th>\n",
       "      <th>type</th>\n",
       "      <th>title</th>\n",
       "      <th>director</th>\n",
       "      <th>cast</th>\n",
       "      <th>country</th>\n",
       "      <th>date_added</th>\n",
       "      <th>release_year</th>\n",
       "      <th>rating</th>\n",
       "      <th>duration</th>\n",
       "      <th>listed_in</th>\n",
       "      <th>description</th>\n",
       "    </tr>\n",
       "  </thead>\n",
       "  <tbody>\n",
       "    <tr>\n",
       "      <th>0</th>\n",
       "      <td>s1</td>\n",
       "      <td>TV Show</td>\n",
       "      <td>3%</td>\n",
       "      <td>NaN</td>\n",
       "      <td>João Miguel, Bianca Comparato, Michel Gomes, R...</td>\n",
       "      <td>Brazil</td>\n",
       "      <td>August 14, 2020</td>\n",
       "      <td>2020</td>\n",
       "      <td>TV-MA</td>\n",
       "      <td>4 Seasons</td>\n",
       "      <td>International TV Shows, TV Dramas, TV Sci-Fi &amp;...</td>\n",
       "      <td>In a future where the elite inhabit an island ...</td>\n",
       "    </tr>\n",
       "    <tr>\n",
       "      <th>1</th>\n",
       "      <td>s2</td>\n",
       "      <td>Movie</td>\n",
       "      <td>7:19</td>\n",
       "      <td>Jorge Michel Grau</td>\n",
       "      <td>Demián Bichir, Héctor Bonilla, Oscar Serrano, ...</td>\n",
       "      <td>Mexico</td>\n",
       "      <td>December 23, 2016</td>\n",
       "      <td>2016</td>\n",
       "      <td>TV-MA</td>\n",
       "      <td>93 min</td>\n",
       "      <td>Dramas, International Movies</td>\n",
       "      <td>After a devastating earthquake hits Mexico Cit...</td>\n",
       "    </tr>\n",
       "    <tr>\n",
       "      <th>2</th>\n",
       "      <td>s3</td>\n",
       "      <td>Movie</td>\n",
       "      <td>23:59</td>\n",
       "      <td>Gilbert Chan</td>\n",
       "      <td>Tedd Chan, Stella Chung, Henley Hii, Lawrence ...</td>\n",
       "      <td>Singapore</td>\n",
       "      <td>December 20, 2018</td>\n",
       "      <td>2011</td>\n",
       "      <td>R</td>\n",
       "      <td>78 min</td>\n",
       "      <td>Horror Movies, International Movies</td>\n",
       "      <td>When an army recruit is found dead, his fellow...</td>\n",
       "    </tr>\n",
       "    <tr>\n",
       "      <th>3</th>\n",
       "      <td>s4</td>\n",
       "      <td>Movie</td>\n",
       "      <td>9</td>\n",
       "      <td>Shane Acker</td>\n",
       "      <td>Elijah Wood, John C. Reilly, Jennifer Connelly...</td>\n",
       "      <td>United States</td>\n",
       "      <td>November 16, 2017</td>\n",
       "      <td>2009</td>\n",
       "      <td>PG-13</td>\n",
       "      <td>80 min</td>\n",
       "      <td>Action &amp; Adventure, Independent Movies, Sci-Fi...</td>\n",
       "      <td>In a postapocalyptic world, rag-doll robots hi...</td>\n",
       "    </tr>\n",
       "    <tr>\n",
       "      <th>4</th>\n",
       "      <td>s5</td>\n",
       "      <td>Movie</td>\n",
       "      <td>21</td>\n",
       "      <td>Robert Luketic</td>\n",
       "      <td>Jim Sturgess, Kevin Spacey, Kate Bosworth, Aar...</td>\n",
       "      <td>United States</td>\n",
       "      <td>January 1, 2020</td>\n",
       "      <td>2008</td>\n",
       "      <td>PG-13</td>\n",
       "      <td>123 min</td>\n",
       "      <td>Dramas</td>\n",
       "      <td>A brilliant group of students become card-coun...</td>\n",
       "    </tr>\n",
       "  </tbody>\n",
       "</table>\n",
       "</div>"
      ],
      "text/plain": [
       "  show_id     type  title           director  \\\n",
       "0      s1  TV Show     3%                NaN   \n",
       "1      s2    Movie   7:19  Jorge Michel Grau   \n",
       "2      s3    Movie  23:59       Gilbert Chan   \n",
       "3      s4    Movie      9        Shane Acker   \n",
       "4      s5    Movie     21     Robert Luketic   \n",
       "\n",
       "                                                cast        country  \\\n",
       "0  João Miguel, Bianca Comparato, Michel Gomes, R...         Brazil   \n",
       "1  Demián Bichir, Héctor Bonilla, Oscar Serrano, ...         Mexico   \n",
       "2  Tedd Chan, Stella Chung, Henley Hii, Lawrence ...      Singapore   \n",
       "3  Elijah Wood, John C. Reilly, Jennifer Connelly...  United States   \n",
       "4  Jim Sturgess, Kevin Spacey, Kate Bosworth, Aar...  United States   \n",
       "\n",
       "          date_added  release_year rating   duration  \\\n",
       "0    August 14, 2020          2020  TV-MA  4 Seasons   \n",
       "1  December 23, 2016          2016  TV-MA     93 min   \n",
       "2  December 20, 2018          2011      R     78 min   \n",
       "3  November 16, 2017          2009  PG-13     80 min   \n",
       "4    January 1, 2020          2008  PG-13    123 min   \n",
       "\n",
       "                                           listed_in  \\\n",
       "0  International TV Shows, TV Dramas, TV Sci-Fi &...   \n",
       "1                       Dramas, International Movies   \n",
       "2                Horror Movies, International Movies   \n",
       "3  Action & Adventure, Independent Movies, Sci-Fi...   \n",
       "4                                             Dramas   \n",
       "\n",
       "                                         description  \n",
       "0  In a future where the elite inhabit an island ...  \n",
       "1  After a devastating earthquake hits Mexico Cit...  \n",
       "2  When an army recruit is found dead, his fellow...  \n",
       "3  In a postapocalyptic world, rag-doll robots hi...  \n",
       "4  A brilliant group of students become card-coun...  "
      ]
     },
     "execution_count": 2,
     "metadata": {},
     "output_type": "execute_result"
    }
   ],
   "source": [
    "# load in the dataset into a pandas dataframe\n",
    "\n",
    "df=pd.read_csv('../input/netflix-shows/netflix_titles.csv')\n",
    "df.head()"
   ]
  },
  {
   "cell_type": "code",
   "execution_count": 3,
   "metadata": {
    "execution": {
     "iopub.execute_input": "2021-03-09T08:47:39.043923Z",
     "iopub.status.busy": "2021-03-09T08:47:39.042899Z",
     "iopub.status.idle": "2021-03-09T08:47:39.047371Z",
     "shell.execute_reply": "2021-03-09T08:47:39.046738Z"
    },
    "papermill": {
     "duration": 0.048577,
     "end_time": "2021-03-09T08:47:39.047524",
     "exception": false,
     "start_time": "2021-03-09T08:47:38.998947",
     "status": "completed"
    },
    "slideshow": {
     "slide_type": "subslide"
    },
    "tags": []
   },
   "outputs": [
    {
     "data": {
      "text/plain": [
       "(7787, 12)"
      ]
     },
     "execution_count": 3,
     "metadata": {},
     "output_type": "execute_result"
    }
   ],
   "source": [
    "#Check shape of the dataset\n",
    "df.shape"
   ]
  },
  {
   "cell_type": "code",
   "execution_count": 4,
   "metadata": {
    "execution": {
     "iopub.execute_input": "2021-03-09T08:47:39.130826Z",
     "iopub.status.busy": "2021-03-09T08:47:39.129861Z",
     "iopub.status.idle": "2021-03-09T08:47:39.147697Z",
     "shell.execute_reply": "2021-03-09T08:47:39.147052Z"
    },
    "papermill": {
     "duration": 0.060857,
     "end_time": "2021-03-09T08:47:39.147836",
     "exception": false,
     "start_time": "2021-03-09T08:47:39.086979",
     "status": "completed"
    },
    "slideshow": {
     "slide_type": "skip"
    },
    "tags": []
   },
   "outputs": [
    {
     "data": {
      "text/html": [
       "<div>\n",
       "<style scoped>\n",
       "    .dataframe tbody tr th:only-of-type {\n",
       "        vertical-align: middle;\n",
       "    }\n",
       "\n",
       "    .dataframe tbody tr th {\n",
       "        vertical-align: top;\n",
       "    }\n",
       "\n",
       "    .dataframe thead th {\n",
       "        text-align: right;\n",
       "    }\n",
       "</style>\n",
       "<table border=\"1\" class=\"dataframe\">\n",
       "  <thead>\n",
       "    <tr style=\"text-align: right;\">\n",
       "      <th></th>\n",
       "      <th>release_year</th>\n",
       "    </tr>\n",
       "  </thead>\n",
       "  <tbody>\n",
       "    <tr>\n",
       "      <th>count</th>\n",
       "      <td>7787.000000</td>\n",
       "    </tr>\n",
       "    <tr>\n",
       "      <th>mean</th>\n",
       "      <td>2013.932580</td>\n",
       "    </tr>\n",
       "    <tr>\n",
       "      <th>std</th>\n",
       "      <td>8.757395</td>\n",
       "    </tr>\n",
       "    <tr>\n",
       "      <th>min</th>\n",
       "      <td>1925.000000</td>\n",
       "    </tr>\n",
       "    <tr>\n",
       "      <th>25%</th>\n",
       "      <td>2013.000000</td>\n",
       "    </tr>\n",
       "    <tr>\n",
       "      <th>50%</th>\n",
       "      <td>2017.000000</td>\n",
       "    </tr>\n",
       "    <tr>\n",
       "      <th>75%</th>\n",
       "      <td>2018.000000</td>\n",
       "    </tr>\n",
       "    <tr>\n",
       "      <th>max</th>\n",
       "      <td>2021.000000</td>\n",
       "    </tr>\n",
       "  </tbody>\n",
       "</table>\n",
       "</div>"
      ],
      "text/plain": [
       "       release_year\n",
       "count   7787.000000\n",
       "mean    2013.932580\n",
       "std        8.757395\n",
       "min     1925.000000\n",
       "25%     2013.000000\n",
       "50%     2017.000000\n",
       "75%     2018.000000\n",
       "max     2021.000000"
      ]
     },
     "execution_count": 4,
     "metadata": {},
     "output_type": "execute_result"
    }
   ],
   "source": [
    "#Describe qualitative data \n",
    "df.describe()"
   ]
  },
  {
   "cell_type": "code",
   "execution_count": 5,
   "metadata": {
    "execution": {
     "iopub.execute_input": "2021-03-09T08:47:39.243533Z",
     "iopub.status.busy": "2021-03-09T08:47:39.242838Z",
     "iopub.status.idle": "2021-03-09T08:47:39.259323Z",
     "shell.execute_reply": "2021-03-09T08:47:39.260266Z"
    },
    "papermill": {
     "duration": 0.071917,
     "end_time": "2021-03-09T08:47:39.260544",
     "exception": false,
     "start_time": "2021-03-09T08:47:39.188627",
     "status": "completed"
    },
    "slideshow": {
     "slide_type": "skip"
    },
    "tags": []
   },
   "outputs": [
    {
     "name": "stdout",
     "output_type": "stream",
     "text": [
      "<class 'pandas.core.frame.DataFrame'>\n",
      "RangeIndex: 7787 entries, 0 to 7786\n",
      "Data columns (total 12 columns):\n",
      " #   Column        Non-Null Count  Dtype \n",
      "---  ------        --------------  ----- \n",
      " 0   show_id       7787 non-null   object\n",
      " 1   type          7787 non-null   object\n",
      " 2   title         7787 non-null   object\n",
      " 3   director      5398 non-null   object\n",
      " 4   cast          7069 non-null   object\n",
      " 5   country       7280 non-null   object\n",
      " 6   date_added    7777 non-null   object\n",
      " 7   release_year  7787 non-null   int64 \n",
      " 8   rating        7780 non-null   object\n",
      " 9   duration      7787 non-null   object\n",
      " 10  listed_in     7787 non-null   object\n",
      " 11  description   7787 non-null   object\n",
      "dtypes: int64(1), object(11)\n",
      "memory usage: 730.2+ KB\n"
     ]
    }
   ],
   "source": [
    "#Check Data information\n",
    "df.info()"
   ]
  },
  {
   "cell_type": "code",
   "execution_count": 6,
   "metadata": {
    "execution": {
     "iopub.execute_input": "2021-03-09T08:47:39.362674Z",
     "iopub.status.busy": "2021-03-09T08:47:39.360199Z",
     "iopub.status.idle": "2021-03-09T08:47:39.366323Z",
     "shell.execute_reply": "2021-03-09T08:47:39.366811Z"
    },
    "papermill": {
     "duration": 0.063495,
     "end_time": "2021-03-09T08:47:39.367008",
     "exception": false,
     "start_time": "2021-03-09T08:47:39.303513",
     "status": "completed"
    },
    "slideshow": {
     "slide_type": "skip"
    },
    "tags": []
   },
   "outputs": [
    {
     "data": {
      "text/plain": [
       "show_id            0\n",
       "type               0\n",
       "title              0\n",
       "director        2389\n",
       "cast             718\n",
       "country          507\n",
       "date_added        10\n",
       "release_year       0\n",
       "rating             7\n",
       "duration           0\n",
       "listed_in          0\n",
       "description        0\n",
       "dtype: int64"
      ]
     },
     "execution_count": 6,
     "metadata": {},
     "output_type": "execute_result"
    }
   ],
   "source": [
    "# Check null data\n",
    "df.isnull().sum()"
   ]
  },
  {
   "cell_type": "markdown",
   "metadata": {
    "papermill": {
     "duration": 0.0412,
     "end_time": "2021-03-09T08:47:39.450247",
     "exception": false,
     "start_time": "2021-03-09T08:47:39.409047",
     "status": "completed"
    },
    "slideshow": {
     "slide_type": "skip"
    },
    "tags": []
   },
   "source": [
    ">>### We have some null data need Fill it"
   ]
  },
  {
   "cell_type": "code",
   "execution_count": 7,
   "metadata": {
    "execution": {
     "iopub.execute_input": "2021-03-09T08:47:39.536915Z",
     "iopub.status.busy": "2021-03-09T08:47:39.536196Z",
     "iopub.status.idle": "2021-03-09T08:47:39.575748Z",
     "shell.execute_reply": "2021-03-09T08:47:39.575013Z"
    },
    "papermill": {
     "duration": 0.084166,
     "end_time": "2021-03-09T08:47:39.575897",
     "exception": false,
     "start_time": "2021-03-09T08:47:39.491731",
     "status": "completed"
    },
    "slideshow": {
     "slide_type": "skip"
    },
    "tags": []
   },
   "outputs": [],
   "source": [
    "# Process for NaN data\n",
    "#filling director which didn't have any data by add No Director\n",
    "df.director.fillna(\"No Director\", inplace=True)\n",
    "\n",
    "#filling cast which didn't have any data by add No Cast\n",
    "df.cast.fillna(\"No Cast\", inplace=True)\n",
    "\n",
    "#filling country which didn't have any data by add country unavailable\n",
    "df.country.fillna(\"Country Unavailable\", inplace=True)\n",
    "\n",
    "#drop remain NaN data which we will not use in analysis\n",
    "df.dropna(inplace=True)"
   ]
  },
  {
   "cell_type": "code",
   "execution_count": 8,
   "metadata": {
    "execution": {
     "iopub.execute_input": "2021-03-09T08:47:39.674277Z",
     "iopub.status.busy": "2021-03-09T08:47:39.673616Z",
     "iopub.status.idle": "2021-03-09T08:47:39.680410Z",
     "shell.execute_reply": "2021-03-09T08:47:39.680942Z"
    },
    "papermill": {
     "duration": 0.063426,
     "end_time": "2021-03-09T08:47:39.681117",
     "exception": false,
     "start_time": "2021-03-09T08:47:39.617691",
     "status": "completed"
    },
    "slideshow": {
     "slide_type": "skip"
    },
    "tags": []
   },
   "outputs": [
    {
     "data": {
      "text/plain": [
       "show_id         0\n",
       "type            0\n",
       "title           0\n",
       "director        0\n",
       "cast            0\n",
       "country         0\n",
       "date_added      0\n",
       "release_year    0\n",
       "rating          0\n",
       "duration        0\n",
       "listed_in       0\n",
       "description     0\n",
       "dtype: int64"
      ]
     },
     "execution_count": 8,
     "metadata": {},
     "output_type": "execute_result"
    }
   ],
   "source": [
    "#Check Null data again to confirm from our process\n",
    "df.isnull().sum()"
   ]
  },
  {
   "cell_type": "code",
   "execution_count": 9,
   "metadata": {
    "execution": {
     "iopub.execute_input": "2021-03-09T08:47:39.770179Z",
     "iopub.status.busy": "2021-03-09T08:47:39.769117Z",
     "iopub.status.idle": "2021-03-09T08:47:39.958007Z",
     "shell.execute_reply": "2021-03-09T08:47:39.957433Z"
    },
    "papermill": {
     "duration": 0.234423,
     "end_time": "2021-03-09T08:47:39.958160",
     "exception": false,
     "start_time": "2021-03-09T08:47:39.723737",
     "status": "completed"
    },
    "slideshow": {
     "slide_type": "skip"
    },
    "tags": []
   },
   "outputs": [],
   "source": [
    "# convert time from string to datetime64\n",
    "df['date_added'] = pd.to_datetime(df['date_added'])\n",
    "\n",
    "# Extract month and day name and hour from Start Time after convert\n",
    "df['added_month'] = df['date_added'].dt.month\n",
    "df['added_day_name'] = df['date_added'].dt.day_name()\n",
    "df['added_year'] = df['date_added'].dt.year"
   ]
  },
  {
   "cell_type": "code",
   "execution_count": 10,
   "metadata": {
    "execution": {
     "iopub.execute_input": "2021-03-09T08:47:40.060522Z",
     "iopub.status.busy": "2021-03-09T08:47:40.059484Z",
     "iopub.status.idle": "2021-03-09T08:47:40.078097Z",
     "shell.execute_reply": "2021-03-09T08:47:40.077415Z"
    },
    "papermill": {
     "duration": 0.07791,
     "end_time": "2021-03-09T08:47:40.078256",
     "exception": false,
     "start_time": "2021-03-09T08:47:40.000346",
     "status": "completed"
    },
    "slideshow": {
     "slide_type": "skip"
    },
    "tags": []
   },
   "outputs": [
    {
     "name": "stdout",
     "output_type": "stream",
     "text": [
      "<class 'pandas.core.frame.DataFrame'>\n",
      "Int64Index: 7770 entries, 0 to 7786\n",
      "Data columns (total 15 columns):\n",
      " #   Column          Non-Null Count  Dtype         \n",
      "---  ------          --------------  -----         \n",
      " 0   show_id         7770 non-null   object        \n",
      " 1   type            7770 non-null   object        \n",
      " 2   title           7770 non-null   object        \n",
      " 3   director        7770 non-null   object        \n",
      " 4   cast            7770 non-null   object        \n",
      " 5   country         7770 non-null   object        \n",
      " 6   date_added      7770 non-null   datetime64[ns]\n",
      " 7   release_year    7770 non-null   int64         \n",
      " 8   rating          7770 non-null   object        \n",
      " 9   duration        7770 non-null   object        \n",
      " 10  listed_in       7770 non-null   object        \n",
      " 11  description     7770 non-null   object        \n",
      " 12  added_month     7770 non-null   int64         \n",
      " 13  added_day_name  7770 non-null   object        \n",
      " 14  added_year      7770 non-null   int64         \n",
      "dtypes: datetime64[ns](1), int64(3), object(11)\n",
      "memory usage: 971.2+ KB\n"
     ]
    }
   ],
   "source": [
    "#Check Data information \n",
    "df.info()"
   ]
  },
  {
   "cell_type": "markdown",
   "metadata": {
    "papermill": {
     "duration": 0.043542,
     "end_time": "2021-03-09T08:47:40.172872",
     "exception": false,
     "start_time": "2021-03-09T08:47:40.129330",
     "status": "completed"
    },
    "slideshow": {
     "slide_type": "skip"
    },
    "tags": []
   },
   "source": [
    ">#### Check Duplicated data"
   ]
  },
  {
   "cell_type": "code",
   "execution_count": 11,
   "metadata": {
    "execution": {
     "iopub.execute_input": "2021-03-09T08:47:40.275921Z",
     "iopub.status.busy": "2021-03-09T08:47:40.275199Z",
     "iopub.status.idle": "2021-03-09T08:47:40.312562Z",
     "shell.execute_reply": "2021-03-09T08:47:40.313237Z"
    },
    "papermill": {
     "duration": 0.090621,
     "end_time": "2021-03-09T08:47:40.313533",
     "exception": false,
     "start_time": "2021-03-09T08:47:40.222912",
     "status": "completed"
    },
    "slideshow": {
     "slide_type": "skip"
    },
    "tags": []
   },
   "outputs": [
    {
     "data": {
      "text/plain": [
       "0"
      ]
     },
     "execution_count": 11,
     "metadata": {},
     "output_type": "execute_result"
    }
   ],
   "source": [
    "\n",
    "df.duplicated().sum()"
   ]
  },
  {
   "cell_type": "markdown",
   "metadata": {
    "papermill": {
     "duration": 0.056364,
     "end_time": "2021-03-09T08:47:40.425010",
     "exception": false,
     "start_time": "2021-03-09T08:47:40.368646",
     "status": "completed"
    },
    "slideshow": {
     "slide_type": "skip"
    },
    "tags": []
   },
   "source": [
    ">>#### No duplicate data in our dataset"
   ]
  },
  {
   "cell_type": "code",
   "execution_count": 12,
   "metadata": {
    "execution": {
     "iopub.execute_input": "2021-03-09T08:47:40.551563Z",
     "iopub.status.busy": "2021-03-09T08:47:40.550607Z",
     "iopub.status.idle": "2021-03-09T08:47:40.571071Z",
     "shell.execute_reply": "2021-03-09T08:47:40.571702Z"
    },
    "papermill": {
     "duration": 0.087671,
     "end_time": "2021-03-09T08:47:40.571870",
     "exception": false,
     "start_time": "2021-03-09T08:47:40.484199",
     "status": "completed"
    },
    "slideshow": {
     "slide_type": "skip"
    },
    "tags": []
   },
   "outputs": [
    {
     "data": {
      "text/html": [
       "<div>\n",
       "<style scoped>\n",
       "    .dataframe tbody tr th:only-of-type {\n",
       "        vertical-align: middle;\n",
       "    }\n",
       "\n",
       "    .dataframe tbody tr th {\n",
       "        vertical-align: top;\n",
       "    }\n",
       "\n",
       "    .dataframe thead th {\n",
       "        text-align: right;\n",
       "    }\n",
       "</style>\n",
       "<table border=\"1\" class=\"dataframe\">\n",
       "  <thead>\n",
       "    <tr style=\"text-align: right;\">\n",
       "      <th></th>\n",
       "      <th>show_id</th>\n",
       "      <th>type</th>\n",
       "      <th>title</th>\n",
       "      <th>director</th>\n",
       "      <th>cast</th>\n",
       "      <th>country</th>\n",
       "      <th>date_added</th>\n",
       "      <th>release_year</th>\n",
       "      <th>rating</th>\n",
       "      <th>duration</th>\n",
       "      <th>listed_in</th>\n",
       "      <th>description</th>\n",
       "      <th>added_month</th>\n",
       "      <th>added_day_name</th>\n",
       "      <th>added_year</th>\n",
       "    </tr>\n",
       "  </thead>\n",
       "  <tbody>\n",
       "    <tr>\n",
       "      <th>0</th>\n",
       "      <td>s1</td>\n",
       "      <td>TV Show</td>\n",
       "      <td>3%</td>\n",
       "      <td>No Director</td>\n",
       "      <td>João Miguel, Bianca Comparato, Michel Gomes, R...</td>\n",
       "      <td>Brazil</td>\n",
       "      <td>2020-08-14</td>\n",
       "      <td>2020</td>\n",
       "      <td>TV-MA</td>\n",
       "      <td>4 Seasons</td>\n",
       "      <td>International TV Shows, TV Dramas, TV Sci-Fi &amp;...</td>\n",
       "      <td>In a future where the elite inhabit an island ...</td>\n",
       "      <td>8</td>\n",
       "      <td>Friday</td>\n",
       "      <td>2020</td>\n",
       "    </tr>\n",
       "    <tr>\n",
       "      <th>1</th>\n",
       "      <td>s2</td>\n",
       "      <td>Movie</td>\n",
       "      <td>7:19</td>\n",
       "      <td>Jorge Michel Grau</td>\n",
       "      <td>Demián Bichir, Héctor Bonilla, Oscar Serrano, ...</td>\n",
       "      <td>Mexico</td>\n",
       "      <td>2016-12-23</td>\n",
       "      <td>2016</td>\n",
       "      <td>TV-MA</td>\n",
       "      <td>93 min</td>\n",
       "      <td>Dramas, International Movies</td>\n",
       "      <td>After a devastating earthquake hits Mexico Cit...</td>\n",
       "      <td>12</td>\n",
       "      <td>Friday</td>\n",
       "      <td>2016</td>\n",
       "    </tr>\n",
       "    <tr>\n",
       "      <th>2</th>\n",
       "      <td>s3</td>\n",
       "      <td>Movie</td>\n",
       "      <td>23:59</td>\n",
       "      <td>Gilbert Chan</td>\n",
       "      <td>Tedd Chan, Stella Chung, Henley Hii, Lawrence ...</td>\n",
       "      <td>Singapore</td>\n",
       "      <td>2018-12-20</td>\n",
       "      <td>2011</td>\n",
       "      <td>R</td>\n",
       "      <td>78 min</td>\n",
       "      <td>Horror Movies, International Movies</td>\n",
       "      <td>When an army recruit is found dead, his fellow...</td>\n",
       "      <td>12</td>\n",
       "      <td>Thursday</td>\n",
       "      <td>2018</td>\n",
       "    </tr>\n",
       "    <tr>\n",
       "      <th>3</th>\n",
       "      <td>s4</td>\n",
       "      <td>Movie</td>\n",
       "      <td>9</td>\n",
       "      <td>Shane Acker</td>\n",
       "      <td>Elijah Wood, John C. Reilly, Jennifer Connelly...</td>\n",
       "      <td>United States</td>\n",
       "      <td>2017-11-16</td>\n",
       "      <td>2009</td>\n",
       "      <td>PG-13</td>\n",
       "      <td>80 min</td>\n",
       "      <td>Action &amp; Adventure, Independent Movies, Sci-Fi...</td>\n",
       "      <td>In a postapocalyptic world, rag-doll robots hi...</td>\n",
       "      <td>11</td>\n",
       "      <td>Thursday</td>\n",
       "      <td>2017</td>\n",
       "    </tr>\n",
       "    <tr>\n",
       "      <th>4</th>\n",
       "      <td>s5</td>\n",
       "      <td>Movie</td>\n",
       "      <td>21</td>\n",
       "      <td>Robert Luketic</td>\n",
       "      <td>Jim Sturgess, Kevin Spacey, Kate Bosworth, Aar...</td>\n",
       "      <td>United States</td>\n",
       "      <td>2020-01-01</td>\n",
       "      <td>2008</td>\n",
       "      <td>PG-13</td>\n",
       "      <td>123 min</td>\n",
       "      <td>Dramas</td>\n",
       "      <td>A brilliant group of students become card-coun...</td>\n",
       "      <td>1</td>\n",
       "      <td>Wednesday</td>\n",
       "      <td>2020</td>\n",
       "    </tr>\n",
       "  </tbody>\n",
       "</table>\n",
       "</div>"
      ],
      "text/plain": [
       "  show_id     type  title           director  \\\n",
       "0      s1  TV Show     3%        No Director   \n",
       "1      s2    Movie   7:19  Jorge Michel Grau   \n",
       "2      s3    Movie  23:59       Gilbert Chan   \n",
       "3      s4    Movie      9        Shane Acker   \n",
       "4      s5    Movie     21     Robert Luketic   \n",
       "\n",
       "                                                cast        country  \\\n",
       "0  João Miguel, Bianca Comparato, Michel Gomes, R...         Brazil   \n",
       "1  Demián Bichir, Héctor Bonilla, Oscar Serrano, ...         Mexico   \n",
       "2  Tedd Chan, Stella Chung, Henley Hii, Lawrence ...      Singapore   \n",
       "3  Elijah Wood, John C. Reilly, Jennifer Connelly...  United States   \n",
       "4  Jim Sturgess, Kevin Spacey, Kate Bosworth, Aar...  United States   \n",
       "\n",
       "  date_added  release_year rating   duration  \\\n",
       "0 2020-08-14          2020  TV-MA  4 Seasons   \n",
       "1 2016-12-23          2016  TV-MA     93 min   \n",
       "2 2018-12-20          2011      R     78 min   \n",
       "3 2017-11-16          2009  PG-13     80 min   \n",
       "4 2020-01-01          2008  PG-13    123 min   \n",
       "\n",
       "                                           listed_in  \\\n",
       "0  International TV Shows, TV Dramas, TV Sci-Fi &...   \n",
       "1                       Dramas, International Movies   \n",
       "2                Horror Movies, International Movies   \n",
       "3  Action & Adventure, Independent Movies, Sci-Fi...   \n",
       "4                                             Dramas   \n",
       "\n",
       "                                         description  added_month  \\\n",
       "0  In a future where the elite inhabit an island ...            8   \n",
       "1  After a devastating earthquake hits Mexico Cit...           12   \n",
       "2  When an army recruit is found dead, his fellow...           12   \n",
       "3  In a postapocalyptic world, rag-doll robots hi...           11   \n",
       "4  A brilliant group of students become card-coun...            1   \n",
       "\n",
       "  added_day_name  added_year  \n",
       "0         Friday        2020  \n",
       "1         Friday        2016  \n",
       "2       Thursday        2018  \n",
       "3       Thursday        2017  \n",
       "4      Wednesday        2020  "
      ]
     },
     "execution_count": 12,
     "metadata": {},
     "output_type": "execute_result"
    }
   ],
   "source": [
    "#Check first five rows from dataset\n",
    "df.head()"
   ]
  },
  {
   "cell_type": "code",
   "execution_count": 13,
   "metadata": {
    "execution": {
     "iopub.execute_input": "2021-03-09T08:47:40.663367Z",
     "iopub.status.busy": "2021-03-09T08:47:40.662429Z",
     "iopub.status.idle": "2021-03-09T08:47:40.685976Z",
     "shell.execute_reply": "2021-03-09T08:47:40.686520Z"
    },
    "papermill": {
     "duration": 0.070821,
     "end_time": "2021-03-09T08:47:40.686703",
     "exception": false,
     "start_time": "2021-03-09T08:47:40.615882",
     "status": "completed"
    },
    "slideshow": {
     "slide_type": "slide"
    },
    "tags": []
   },
   "outputs": [
    {
     "name": "stdout",
     "output_type": "stream",
     "text": [
      "Movie    5372\n",
      "Name: type, dtype: int64\n",
      "TV Show    2398\n",
      "Name: type, dtype: int64\n"
     ]
    }
   ],
   "source": [
    "# Creating 2 new Data frame one for moives and one for TV Show\n",
    "df_movies=df.query(\"type=='Movie'\")\n",
    "df_tvshow=df.query(\"type=='TV Show'\")\n",
    "# Check Number of Movies and TV Show\n",
    "print(df_movies.type.value_counts())\n",
    "print(df_tvshow.type.value_counts())"
   ]
  },
  {
   "cell_type": "code",
   "execution_count": 14,
   "metadata": {
    "execution": {
     "iopub.execute_input": "2021-03-09T08:47:40.779630Z",
     "iopub.status.busy": "2021-03-09T08:47:40.778657Z",
     "iopub.status.idle": "2021-03-09T08:47:40.789009Z",
     "shell.execute_reply": "2021-03-09T08:47:40.789517Z"
    },
    "papermill": {
     "duration": 0.059135,
     "end_time": "2021-03-09T08:47:40.789692",
     "exception": false,
     "start_time": "2021-03-09T08:47:40.730557",
     "status": "completed"
    },
    "slideshow": {
     "slide_type": "skip"
    },
    "tags": []
   },
   "outputs": [
    {
     "data": {
      "text/plain": [
       "United States                    2546\n",
       "India                             923\n",
       "Country Unavailable               505\n",
       "United Kingdom                    396\n",
       "Japan                             224\n",
       "                                 ... \n",
       "Russia, United States, China        1\n",
       "Chile, Argentina                    1\n",
       "Belgium, Netherlands                1\n",
       "China, United Kingdom               1\n",
       "France, United States, Canada       1\n",
       "Name: country, Length: 682, dtype: int64"
      ]
     },
     "execution_count": 14,
     "metadata": {},
     "output_type": "execute_result"
    }
   ],
   "source": [
    "#check country with produced Movies and TV Show\n",
    "df['country'].value_counts()"
   ]
  },
  {
   "cell_type": "code",
   "execution_count": 15,
   "metadata": {
    "execution": {
     "iopub.execute_input": "2021-03-09T08:47:40.883844Z",
     "iopub.status.busy": "2021-03-09T08:47:40.882895Z",
     "iopub.status.idle": "2021-03-09T08:47:40.891754Z",
     "shell.execute_reply": "2021-03-09T08:47:40.892185Z"
    },
    "papermill": {
     "duration": 0.057303,
     "end_time": "2021-03-09T08:47:40.892375",
     "exception": false,
     "start_time": "2021-03-09T08:47:40.835072",
     "status": "completed"
    },
    "slideshow": {
     "slide_type": "skip"
    },
    "tags": []
   },
   "outputs": [
    {
     "data": {
      "text/plain": [
       "TV-MA       2861\n",
       "TV-14       1928\n",
       "TV-PG        804\n",
       "R            665\n",
       "PG-13        386\n",
       "TV-Y         279\n",
       "TV-Y7        270\n",
       "PG           247\n",
       "TV-G         194\n",
       "NR            83\n",
       "G             39\n",
       "TV-Y7-FV       6\n",
       "UR             5\n",
       "NC-17          3\n",
       "Name: rating, dtype: int64"
      ]
     },
     "execution_count": 15,
     "metadata": {},
     "output_type": "execute_result"
    }
   ],
   "source": [
    "# Check Rating values\n",
    "df.rating.value_counts()"
   ]
  },
  {
   "cell_type": "code",
   "execution_count": 16,
   "metadata": {
    "execution": {
     "iopub.execute_input": "2021-03-09T08:47:40.991861Z",
     "iopub.status.busy": "2021-03-09T08:47:40.990884Z",
     "iopub.status.idle": "2021-03-09T08:47:40.997954Z",
     "shell.execute_reply": "2021-03-09T08:47:40.997418Z"
    },
    "papermill": {
     "duration": 0.055099,
     "end_time": "2021-03-09T08:47:40.998117",
     "exception": false,
     "start_time": "2021-03-09T08:47:40.943018",
     "status": "completed"
    },
    "slideshow": {
     "slide_type": "skip"
    },
    "tags": []
   },
   "outputs": [],
   "source": [
    "#create Dictionary for rating https://en.wikipedia.org/wiki/TV_Parental_Guidelines\n",
    "rate_ages = {\n",
    "    'TV-PG': 'Older Kids',\n",
    "    'TV-MA': 'Adults',\n",
    "    'TV-Y7-FV': 'Older Kids',\n",
    "    'TV-Y7': 'Older Kids',\n",
    "    'TV-14': 'Teens',\n",
    "    'R': 'Adults',\n",
    "    'TV-Y': 'Kids',\n",
    "    'NR': 'Adults',\n",
    "    'PG-13': 'Teens',\n",
    "    'TV-G': 'Kids',\n",
    "    'PG': 'Older Kids',\n",
    "    'G': 'Kids',\n",
    "    'UR': 'Adults',\n",
    "    'NC-17': 'Adults'\n",
    "}"
   ]
  },
  {
   "cell_type": "code",
   "execution_count": 17,
   "metadata": {
    "execution": {
     "iopub.execute_input": "2021-03-09T08:47:41.103991Z",
     "iopub.status.busy": "2021-03-09T08:47:41.102961Z",
     "iopub.status.idle": "2021-03-09T08:47:41.111739Z",
     "shell.execute_reply": "2021-03-09T08:47:41.112201Z"
    },
    "papermill": {
     "duration": 0.068529,
     "end_time": "2021-03-09T08:47:41.112394",
     "exception": false,
     "start_time": "2021-03-09T08:47:41.043865",
     "status": "completed"
    },
    "slideshow": {
     "slide_type": "skip"
    },
    "tags": []
   },
   "outputs": [
    {
     "data": {
      "text/plain": [
       "array(['Adults', 'Teens', 'Older Kids', 'Kids'], dtype=object)"
      ]
     },
     "execution_count": 17,
     "metadata": {},
     "output_type": "execute_result"
    }
   ],
   "source": [
    "# create new column to add new rating acording to ages stage\n",
    "df['target_ages'] = df['rating'].replace(rate_ages)\n",
    "#Check unique values for new column\n",
    "df['target_ages'].unique()"
   ]
  },
  {
   "cell_type": "code",
   "execution_count": 18,
   "metadata": {
    "execution": {
     "iopub.execute_input": "2021-03-09T08:47:41.207545Z",
     "iopub.status.busy": "2021-03-09T08:47:41.206879Z",
     "iopub.status.idle": "2021-03-09T08:47:41.226016Z",
     "shell.execute_reply": "2021-03-09T08:47:41.226510Z"
    },
    "papermill": {
     "duration": 0.068181,
     "end_time": "2021-03-09T08:47:41.226706",
     "exception": false,
     "start_time": "2021-03-09T08:47:41.158525",
     "status": "completed"
    },
    "scrolled": true,
    "slideshow": {
     "slide_type": "slide"
    },
    "tags": []
   },
   "outputs": [
    {
     "data": {
      "text/html": [
       "<div>\n",
       "<style scoped>\n",
       "    .dataframe tbody tr th:only-of-type {\n",
       "        vertical-align: middle;\n",
       "    }\n",
       "\n",
       "    .dataframe tbody tr th {\n",
       "        vertical-align: top;\n",
       "    }\n",
       "\n",
       "    .dataframe thead th {\n",
       "        text-align: right;\n",
       "    }\n",
       "</style>\n",
       "<table border=\"1\" class=\"dataframe\">\n",
       "  <thead>\n",
       "    <tr style=\"text-align: right;\">\n",
       "      <th></th>\n",
       "      <th>release_year</th>\n",
       "      <th>added_month</th>\n",
       "      <th>added_year</th>\n",
       "    </tr>\n",
       "  </thead>\n",
       "  <tbody>\n",
       "    <tr>\n",
       "      <th>count</th>\n",
       "      <td>5372.000000</td>\n",
       "      <td>5372.000000</td>\n",
       "      <td>5372.000000</td>\n",
       "    </tr>\n",
       "    <tr>\n",
       "      <th>mean</th>\n",
       "      <td>2012.918280</td>\n",
       "      <td>6.714073</td>\n",
       "      <td>2018.481571</td>\n",
       "    </tr>\n",
       "    <tr>\n",
       "      <th>std</th>\n",
       "      <td>9.667293</td>\n",
       "      <td>3.612923</td>\n",
       "      <td>1.379639</td>\n",
       "    </tr>\n",
       "    <tr>\n",
       "      <th>min</th>\n",
       "      <td>1942.000000</td>\n",
       "      <td>1.000000</td>\n",
       "      <td>2008.000000</td>\n",
       "    </tr>\n",
       "    <tr>\n",
       "      <th>25%</th>\n",
       "      <td>2012.000000</td>\n",
       "      <td>3.000000</td>\n",
       "      <td>2018.000000</td>\n",
       "    </tr>\n",
       "    <tr>\n",
       "      <th>50%</th>\n",
       "      <td>2016.000000</td>\n",
       "      <td>7.000000</td>\n",
       "      <td>2019.000000</td>\n",
       "    </tr>\n",
       "    <tr>\n",
       "      <th>75%</th>\n",
       "      <td>2018.000000</td>\n",
       "      <td>10.000000</td>\n",
       "      <td>2020.000000</td>\n",
       "    </tr>\n",
       "    <tr>\n",
       "      <th>max</th>\n",
       "      <td>2021.000000</td>\n",
       "      <td>12.000000</td>\n",
       "      <td>2021.000000</td>\n",
       "    </tr>\n",
       "  </tbody>\n",
       "</table>\n",
       "</div>"
      ],
      "text/plain": [
       "       release_year  added_month   added_year\n",
       "count   5372.000000  5372.000000  5372.000000\n",
       "mean    2012.918280     6.714073  2018.481571\n",
       "std        9.667293     3.612923     1.379639\n",
       "min     1942.000000     1.000000  2008.000000\n",
       "25%     2012.000000     3.000000  2018.000000\n",
       "50%     2016.000000     7.000000  2019.000000\n",
       "75%     2018.000000    10.000000  2020.000000\n",
       "max     2021.000000    12.000000  2021.000000"
      ]
     },
     "execution_count": 18,
     "metadata": {},
     "output_type": "execute_result"
    }
   ],
   "source": [
    "#Describe Data frame which have only Movies\n",
    "\n",
    "df_movies.describe()"
   ]
  },
  {
   "cell_type": "markdown",
   "metadata": {
    "papermill": {
     "duration": 0.045989,
     "end_time": "2021-03-09T08:47:41.319498",
     "exception": false,
     "start_time": "2021-03-09T08:47:41.273509",
     "status": "completed"
    },
    "slideshow": {
     "slide_type": "subslide"
    },
    "tags": []
   },
   "source": [
    ">>### Noted : from 2016 to 2020 around 50% from total Movies  released and from 2018 to 2020 added 50 % of moives on netflix from total movies of netflix"
   ]
  },
  {
   "cell_type": "code",
   "execution_count": 19,
   "metadata": {
    "execution": {
     "iopub.execute_input": "2021-03-09T08:47:41.415610Z",
     "iopub.status.busy": "2021-03-09T08:47:41.414959Z",
     "iopub.status.idle": "2021-03-09T08:47:41.434868Z",
     "shell.execute_reply": "2021-03-09T08:47:41.434347Z"
    },
    "papermill": {
     "duration": 0.069275,
     "end_time": "2021-03-09T08:47:41.435014",
     "exception": false,
     "start_time": "2021-03-09T08:47:41.365739",
     "status": "completed"
    },
    "slideshow": {
     "slide_type": "slide"
    },
    "tags": []
   },
   "outputs": [
    {
     "data": {
      "text/html": [
       "<div>\n",
       "<style scoped>\n",
       "    .dataframe tbody tr th:only-of-type {\n",
       "        vertical-align: middle;\n",
       "    }\n",
       "\n",
       "    .dataframe tbody tr th {\n",
       "        vertical-align: top;\n",
       "    }\n",
       "\n",
       "    .dataframe thead th {\n",
       "        text-align: right;\n",
       "    }\n",
       "</style>\n",
       "<table border=\"1\" class=\"dataframe\">\n",
       "  <thead>\n",
       "    <tr style=\"text-align: right;\">\n",
       "      <th></th>\n",
       "      <th>release_year</th>\n",
       "      <th>added_month</th>\n",
       "      <th>added_year</th>\n",
       "    </tr>\n",
       "  </thead>\n",
       "  <tbody>\n",
       "    <tr>\n",
       "      <th>count</th>\n",
       "      <td>2398.000000</td>\n",
       "      <td>2398.000000</td>\n",
       "      <td>2398.000000</td>\n",
       "    </tr>\n",
       "    <tr>\n",
       "      <th>mean</th>\n",
       "      <td>2016.213928</td>\n",
       "      <td>6.943703</td>\n",
       "      <td>2018.525021</td>\n",
       "    </tr>\n",
       "    <tr>\n",
       "      <th>std</th>\n",
       "      <td>5.660587</td>\n",
       "      <td>3.537710</td>\n",
       "      <td>1.405039</td>\n",
       "    </tr>\n",
       "    <tr>\n",
       "      <th>min</th>\n",
       "      <td>1925.000000</td>\n",
       "      <td>1.000000</td>\n",
       "      <td>2008.000000</td>\n",
       "    </tr>\n",
       "    <tr>\n",
       "      <th>25%</th>\n",
       "      <td>2015.000000</td>\n",
       "      <td>4.000000</td>\n",
       "      <td>2018.000000</td>\n",
       "    </tr>\n",
       "    <tr>\n",
       "      <th>50%</th>\n",
       "      <td>2018.000000</td>\n",
       "      <td>7.000000</td>\n",
       "      <td>2019.000000</td>\n",
       "    </tr>\n",
       "    <tr>\n",
       "      <th>75%</th>\n",
       "      <td>2019.000000</td>\n",
       "      <td>10.000000</td>\n",
       "      <td>2020.000000</td>\n",
       "    </tr>\n",
       "    <tr>\n",
       "      <th>max</th>\n",
       "      <td>2021.000000</td>\n",
       "      <td>12.000000</td>\n",
       "      <td>2021.000000</td>\n",
       "    </tr>\n",
       "  </tbody>\n",
       "</table>\n",
       "</div>"
      ],
      "text/plain": [
       "       release_year  added_month   added_year\n",
       "count   2398.000000  2398.000000  2398.000000\n",
       "mean    2016.213928     6.943703  2018.525021\n",
       "std        5.660587     3.537710     1.405039\n",
       "min     1925.000000     1.000000  2008.000000\n",
       "25%     2015.000000     4.000000  2018.000000\n",
       "50%     2018.000000     7.000000  2019.000000\n",
       "75%     2019.000000    10.000000  2020.000000\n",
       "max     2021.000000    12.000000  2021.000000"
      ]
     },
     "execution_count": 19,
     "metadata": {},
     "output_type": "execute_result"
    }
   ],
   "source": [
    "#Describe Data frame which have only TV Shows\n",
    "df_tvshow.describe()"
   ]
  },
  {
   "cell_type": "markdown",
   "metadata": {
    "papermill": {
     "duration": 0.046474,
     "end_time": "2021-03-09T08:47:41.528622",
     "exception": false,
     "start_time": "2021-03-09T08:47:41.482148",
     "status": "completed"
    },
    "slideshow": {
     "slide_type": "subslide"
    },
    "tags": []
   },
   "source": [
    ">>### Noted: from 2017 to 2020 around 50% from TV Shows released, and Netflix added 50% from Total tv show on netflix from 2018 to 2020 "
   ]
  },
  {
   "cell_type": "code",
   "execution_count": 20,
   "metadata": {
    "execution": {
     "iopub.execute_input": "2021-03-09T08:47:41.629884Z",
     "iopub.status.busy": "2021-03-09T08:47:41.629052Z",
     "iopub.status.idle": "2021-03-09T08:47:41.641407Z",
     "shell.execute_reply": "2021-03-09T08:47:41.640813Z"
    },
    "papermill": {
     "duration": 0.064872,
     "end_time": "2021-03-09T08:47:41.641566",
     "exception": false,
     "start_time": "2021-03-09T08:47:41.576694",
     "status": "completed"
    },
    "slideshow": {
     "slide_type": "slide"
    },
    "tags": []
   },
   "outputs": [
    {
     "data": {
      "text/html": [
       "<div>\n",
       "<style scoped>\n",
       "    .dataframe tbody tr th:only-of-type {\n",
       "        vertical-align: middle;\n",
       "    }\n",
       "\n",
       "    .dataframe tbody tr th {\n",
       "        vertical-align: top;\n",
       "    }\n",
       "\n",
       "    .dataframe thead th {\n",
       "        text-align: right;\n",
       "    }\n",
       "</style>\n",
       "<table border=\"1\" class=\"dataframe\">\n",
       "  <thead>\n",
       "    <tr style=\"text-align: right;\">\n",
       "      <th></th>\n",
       "      <th>release_year</th>\n",
       "      <th>added_month</th>\n",
       "      <th>added_year</th>\n",
       "    </tr>\n",
       "  </thead>\n",
       "  <tbody>\n",
       "    <tr>\n",
       "      <th>release_year</th>\n",
       "      <td>1.000000</td>\n",
       "      <td>-0.010113</td>\n",
       "      <td>0.100745</td>\n",
       "    </tr>\n",
       "    <tr>\n",
       "      <th>added_month</th>\n",
       "      <td>-0.010113</td>\n",
       "      <td>1.000000</td>\n",
       "      <td>-0.133257</td>\n",
       "    </tr>\n",
       "    <tr>\n",
       "      <th>added_year</th>\n",
       "      <td>0.100745</td>\n",
       "      <td>-0.133257</td>\n",
       "      <td>1.000000</td>\n",
       "    </tr>\n",
       "  </tbody>\n",
       "</table>\n",
       "</div>"
      ],
      "text/plain": [
       "              release_year  added_month  added_year\n",
       "release_year      1.000000    -0.010113    0.100745\n",
       "added_month      -0.010113     1.000000   -0.133257\n",
       "added_year        0.100745    -0.133257    1.000000"
      ]
     },
     "execution_count": 20,
     "metadata": {},
     "output_type": "execute_result"
    }
   ],
   "source": [
    "#Check correlation coefficient  \n",
    "df.corr()"
   ]
  },
  {
   "cell_type": "markdown",
   "metadata": {
    "papermill": {
     "duration": 0.047676,
     "end_time": "2021-03-09T08:47:41.737230",
     "exception": false,
     "start_time": "2021-03-09T08:47:41.689554",
     "status": "completed"
    },
    "slideshow": {
     "slide_type": "skip"
    },
    "tags": []
   },
   "source": [
    "### What is the structure of your dataset?\n",
    "\n",
    "> the Row dataset 6234 rows and 12 columns\n",
    "\n",
    "### What is/are the main feature(s) of interest in your dataset?\n",
    "I'm most interested in figuring out\n",
    "> What is the Country that has more production for Movies and TV shows?\n",
    "\n",
    "> Type of content (Movies and TV shows), what type of content one is higher on Netflix?\n",
    "\n",
    "> when did start Netflix to increase content?\n",
    "### What features in the dataset do you think will help support your investigation into your feature(s) of interest?\n",
    "\n",
    "> Rate of content according who care to watch content [Older Kids', 'Teens', 'Adults', 'Kids, \n",
    ">I expect that type of content will have the strongest effect on my investigation.\n",
    "> Release years and add years to figure out at which years start to increase the content.\n"
   ]
  },
  {
   "cell_type": "markdown",
   "metadata": {
    "papermill": {
     "duration": 0.047556,
     "end_time": "2021-03-09T08:47:41.832745",
     "exception": false,
     "start_time": "2021-03-09T08:47:41.785189",
     "status": "completed"
    },
    "slideshow": {
     "slide_type": "slide"
    },
    "tags": []
   },
   "source": [
    "# *Univariate Exploration*\n",
    "\n"
   ]
  },
  {
   "cell_type": "markdown",
   "metadata": {
    "papermill": {
     "duration": 0.047729,
     "end_time": "2021-03-09T08:47:41.928662",
     "exception": false,
     "start_time": "2021-03-09T08:47:41.880933",
     "status": "completed"
    },
    "slideshow": {
     "slide_type": "slide"
    },
    "tags": []
   },
   "source": [
    "#  <span style=\"color:red\">1.Which type more show Moives or TV Shows?</span>"
   ]
  },
  {
   "cell_type": "code",
   "execution_count": 21,
   "metadata": {
    "execution": {
     "iopub.execute_input": "2021-03-09T08:47:42.036185Z",
     "iopub.status.busy": "2021-03-09T08:47:42.035432Z",
     "iopub.status.idle": "2021-03-09T08:47:42.188981Z",
     "shell.execute_reply": "2021-03-09T08:47:42.188348Z"
    },
    "papermill": {
     "duration": 0.212616,
     "end_time": "2021-03-09T08:47:42.189124",
     "exception": false,
     "start_time": "2021-03-09T08:47:41.976508",
     "status": "completed"
    },
    "slideshow": {
     "slide_type": "subslide"
    },
    "tags": []
   },
   "outputs": [
    {
     "data": {
      "image/png": "[encoded data removed]",
      "text/plain": [
       "<Figure size 864x504 with 1 Axes>"
      ]
     },
     "metadata": {},
     "output_type": "display_data"
    },
    {
     "data": {
      "text/plain": [
       "''"
      ]
     },
     "execution_count": 21,
     "metadata": {},
     "output_type": "execute_result"
    }
   ],
   "source": [
    "# Use the `color` argument\n",
    "con=df['type'].value_counts()\n",
    "\n",
    "# g = plt.pie(con,explode=(0.025,0.025), labels=df.type.value_counts().index, colors=[‘red’,’black’],autopct=’%1.1f%%’, startangle=180)\n",
    "explode = (0, 0.2)  # only \"explode\" the 2nd slice (i.e. 'Hogs')\n",
    "plt.figure(figsize=(12,7))\n",
    "\n",
    "plt.pie(con,labels=con.index,startangle=90,autopct='%1.1f%%',counterclock=False,explode=explode,shadow=True,)\n",
    "plt.title('Porportion Movies And TV Shows on Netflix')\n",
    "plt.axis('square')\n",
    "plt.show()\n",
    ";"
   ]
  },
  {
   "cell_type": "markdown",
   "metadata": {
    "papermill": {
     "duration": 0.04922,
     "end_time": "2021-03-09T08:47:42.288223",
     "exception": false,
     "start_time": "2021-03-09T08:47:42.239003",
     "status": "completed"
    },
    "slideshow": {
     "slide_type": "subslide"
    },
    "tags": []
   },
   "source": [
    ">>###  <span style=\"color:blue\"> (68,4%) Movies and (31,6%) TV Shows,that means most of shows from the movies.</span>"
   ]
  },
  {
   "cell_type": "code",
   "execution_count": 22,
   "metadata": {
    "execution": {
     "iopub.execute_input": "2021-03-09T08:47:42.395935Z",
     "iopub.status.busy": "2021-03-09T08:47:42.395258Z",
     "iopub.status.idle": "2021-03-09T08:47:42.727083Z",
     "shell.execute_reply": "2021-03-09T08:47:42.727616Z"
    },
    "papermill": {
     "duration": 0.389886,
     "end_time": "2021-03-09T08:47:42.727788",
     "exception": false,
     "start_time": "2021-03-09T08:47:42.337902",
     "status": "completed"
    },
    "slideshow": {
     "slide_type": "slide"
    },
    "tags": []
   },
   "outputs": [
    {
     "data": {
      "image/png": "[encoded data removed]",
      "text/plain": [
       "<Figure size 720x504 with 1 Axes>"
      ]
     },
     "metadata": {
      "needs_background": "light"
     },
     "output_type": "display_data"
    }
   ],
   "source": [
    "#Check most of Tv show how many season comman\n",
    "plt.figure(figsize=(10,7))\n",
    "\n",
    "df_tvshow.duration.value_counts().plot(kind='bar')\n",
    "plt.xlabel('Seasons')\n",
    "plt.ylabel('frequancy')\n",
    "plt.title('TV Shows Sesson');\n"
   ]
  },
  {
   "cell_type": "markdown",
   "metadata": {
    "papermill": {
     "duration": 0.051048,
     "end_time": "2021-03-09T08:47:42.829770",
     "exception": false,
     "start_time": "2021-03-09T08:47:42.778722",
     "status": "completed"
    },
    "slideshow": {
     "slide_type": "subslide"
    },
    "tags": []
   },
   "source": [
    ">>### <span style=\"color:blue\">Most of TV Shows have one Season</span>"
   ]
  },
  {
   "cell_type": "code",
   "execution_count": 23,
   "metadata": {
    "execution": {
     "iopub.execute_input": "2021-03-09T08:47:42.955657Z",
     "iopub.status.busy": "2021-03-09T08:47:42.954226Z",
     "iopub.status.idle": "2021-03-09T08:47:43.127037Z",
     "shell.execute_reply": "2021-03-09T08:47:43.126471Z"
    },
    "papermill": {
     "duration": 0.247358,
     "end_time": "2021-03-09T08:47:43.127172",
     "exception": false,
     "start_time": "2021-03-09T08:47:42.879814",
     "status": "completed"
    },
    "slideshow": {
     "slide_type": "slide"
    },
    "tags": []
   },
   "outputs": [
    {
     "data": {
      "image/png": "[encoded data removed]",
      "text/plain": [
       "<Figure size 720x504 with 1 Axes>"
      ]
     },
     "metadata": {
      "needs_background": "light"
     },
     "output_type": "display_data"
    }
   ],
   "source": [
    "# Check most of the Movies  how many common movies have same duration ?\n",
    "plt.figure(figsize=(10,7))\n",
    "df_movies.duration.value_counts().plot()\n",
    "plt.xticks(rotation=90);\n",
    "plt.xlabel('Duration Of Movies (MIN)')\n",
    "plt.ylabel('Frequency')\n",
    "plt.title('Frequency of duration');"
   ]
  },
  {
   "cell_type": "markdown",
   "metadata": {
    "papermill": {
     "duration": 0.051006,
     "end_time": "2021-03-09T08:47:43.229921",
     "exception": false,
     "start_time": "2021-03-09T08:47:43.178915",
     "status": "completed"
    },
    "slideshow": {
     "slide_type": "subslide"
    },
    "tags": []
   },
   "source": [
    ">>### <span style=\"color:blue\">Most of Movies have 90 Min's duration</span>"
   ]
  },
  {
   "cell_type": "code",
   "execution_count": 24,
   "metadata": {
    "execution": {
     "iopub.execute_input": "2021-03-09T08:47:43.350430Z",
     "iopub.status.busy": "2021-03-09T08:47:43.345189Z",
     "iopub.status.idle": "2021-03-09T08:47:43.610845Z",
     "shell.execute_reply": "2021-03-09T08:47:43.610137Z"
    },
    "papermill": {
     "duration": 0.329594,
     "end_time": "2021-03-09T08:47:43.610991",
     "exception": false,
     "start_time": "2021-03-09T08:47:43.281397",
     "status": "completed"
    },
    "slideshow": {
     "slide_type": "slide"
    },
    "tags": []
   },
   "outputs": [
    {
     "name": "stderr",
     "output_type": "stream",
     "text": [
      "/opt/conda/lib/python3.7/site-packages/seaborn/distributions.py:2557: FutureWarning: `distplot` is a deprecated function and will be removed in a future version. Please adapt your code to use either `displot` (a figure-level function with similar flexibility) or `histplot` (an axes-level function for histograms).\n",
      "  warnings.warn(msg, FutureWarning)\n"
     ]
    },
    {
     "data": {
      "image/png": "[encoded data removed]",
      "text/plain": [
       "<Figure size 720x504 with 1 Axes>"
      ]
     },
     "metadata": {
      "needs_background": "light"
     },
     "output_type": "display_data"
    }
   ],
   "source": [
    "# extract number of time and make normal distribution for movies time almost average time 100 MIN's\n",
    "plt.figure(figsize=(10,7))\n",
    "\n",
    "sb.distplot(df_movies['duration'].str.extract('(\\d+)'),fit=norm,kde=False,color=['k'])\n",
    "plt.xlabel('Movies Duration')\n",
    "plt.ylabel('Frequancy')\n",
    "plt.title('Distrbution for Movies duration');\n"
   ]
  },
  {
   "cell_type": "markdown",
   "metadata": {
    "papermill": {
     "duration": 0.052117,
     "end_time": "2021-03-09T08:47:43.716199",
     "exception": false,
     "start_time": "2021-03-09T08:47:43.664082",
     "status": "completed"
    },
    "slideshow": {
     "slide_type": "subslide"
    },
    "tags": []
   },
   "source": [
    ">>## <span style=\"color:blue\">Most of the average duration for movies 100 Min's,Netflix shloud care about duration when add new movies.</span>"
   ]
  },
  {
   "cell_type": "markdown",
   "metadata": {
    "papermill": {
     "duration": 0.053325,
     "end_time": "2021-03-09T08:47:43.822500",
     "exception": false,
     "start_time": "2021-03-09T08:47:43.769175",
     "status": "completed"
    },
    "slideshow": {
     "slide_type": "slide"
    },
    "tags": []
   },
   "source": [
    "#  <span style=\"color:red\">2.Which country has high production content of Netflix?</span> "
   ]
  },
  {
   "cell_type": "markdown",
   "metadata": {
    "papermill": {
     "duration": 0.052778,
     "end_time": "2021-03-09T08:47:43.928408",
     "exception": false,
     "start_time": "2021-03-09T08:47:43.875630",
     "status": "completed"
    },
    "slideshow": {
     "slide_type": "skip"
    },
    "tags": []
   },
   "source": [
    "## We need to separate all countries before analyzing it."
   ]
  },
  {
   "cell_type": "code",
   "execution_count": 25,
   "metadata": {
    "execution": {
     "iopub.execute_input": "2021-03-09T08:47:44.042180Z",
     "iopub.status.busy": "2021-03-09T08:47:44.041537Z",
     "iopub.status.idle": "2021-03-09T08:47:44.088736Z",
     "shell.execute_reply": "2021-03-09T08:47:44.088183Z"
    },
    "papermill": {
     "duration": 0.10675,
     "end_time": "2021-03-09T08:47:44.088881",
     "exception": false,
     "start_time": "2021-03-09T08:47:43.982131",
     "status": "completed"
    },
    "slideshow": {
     "slide_type": "skip"
    },
    "tags": []
   },
   "outputs": [
    {
     "data": {
      "text/plain": [
       "title\n",
       "3%                                                      Brazil\n",
       "7:19                                                    Mexico\n",
       "23:59                                                Singapore\n",
       "9                                                United States\n",
       "21                                               United States\n",
       "                                                  ...         \n",
       "Zulu Man in Japan                          Country Unavailable\n",
       "Zumbo's Just Desserts                                Australia\n",
       "ZZ TOP: THAT LITTLE OL' BAND FROM TEXAS         United Kingdom\n",
       "ZZ TOP: THAT LITTLE OL' BAND FROM TEXAS                 Canada\n",
       "ZZ TOP: THAT LITTLE OL' BAND FROM TEXAS          United States\n",
       "Length: 9557, dtype: object"
      ]
     },
     "execution_count": 25,
     "metadata": {},
     "output_type": "execute_result"
    }
   ],
   "source": [
    "all_countries = df.set_index('title').country.str.split(',', expand=True).stack().reset_index(level=1, drop=True);\n",
    "all_countries"
   ]
  },
  {
   "cell_type": "markdown",
   "metadata": {
    "papermill": {
     "duration": 0.052946,
     "end_time": "2021-03-09T08:47:44.195311",
     "exception": false,
     "start_time": "2021-03-09T08:47:44.142365",
     "status": "completed"
    },
    "slideshow": {
     "slide_type": "skip"
    },
    "tags": []
   },
   "source": [
    "### Removing titles with no countries available."
   ]
  },
  {
   "cell_type": "code",
   "execution_count": 26,
   "metadata": {
    "execution": {
     "iopub.execute_input": "2021-03-09T08:47:44.309920Z",
     "iopub.status.busy": "2021-03-09T08:47:44.308905Z",
     "iopub.status.idle": "2021-03-09T08:47:44.312169Z",
     "shell.execute_reply": "2021-03-09T08:47:44.311569Z"
    },
    "papermill": {
     "duration": 0.063585,
     "end_time": "2021-03-09T08:47:44.312333",
     "exception": false,
     "start_time": "2021-03-09T08:47:44.248748",
     "status": "completed"
    },
    "slideshow": {
     "slide_type": "skip"
    },
    "tags": []
   },
   "outputs": [],
   "source": [
    "all_countries=all_countries[all_countries !='Country Unavailable']"
   ]
  },
  {
   "cell_type": "markdown",
   "metadata": {
    "papermill": {
     "duration": 0.054339,
     "end_time": "2021-03-09T08:47:44.420325",
     "exception": false,
     "start_time": "2021-03-09T08:47:44.365986",
     "status": "completed"
    },
    "slideshow": {
     "slide_type": "subslide"
    },
    "tags": []
   },
   "source": [
    "## top Countries producted Movies and TV Shows"
   ]
  },
  {
   "cell_type": "code",
   "execution_count": 27,
   "metadata": {
    "execution": {
     "iopub.execute_input": "2021-03-09T08:47:44.547774Z",
     "iopub.status.busy": "2021-03-09T08:47:44.536936Z",
     "iopub.status.idle": "2021-03-09T08:47:44.789492Z",
     "shell.execute_reply": "2021-03-09T08:47:44.788931Z"
    },
    "papermill": {
     "duration": 0.315797,
     "end_time": "2021-03-09T08:47:44.789644",
     "exception": false,
     "start_time": "2021-03-09T08:47:44.473847",
     "status": "completed"
    },
    "slideshow": {
     "slide_type": "subslide"
    },
    "tags": []
   },
   "outputs": [
    {
     "data": {
      "image/png": "[encoded data removed]",
      "text/plain": [
       "<Figure size 864x504 with 1 Axes>"
      ]
     },
     "metadata": {
      "needs_background": "light"
     },
     "output_type": "display_data"
    }
   ],
   "source": [
    "base_color = sb.color_palette()[1]\n",
    "plt.figure(figsize=(12,7))\n",
    "\n",
    "sb.countplot(y = all_countries, order=all_countries.value_counts().index[:15],color=base_color)\n",
    "plt.xlabel('Count Movies/TV Show Produced')\n",
    "plt.ylabel('Country')\n",
    "plt.title('Highest Countries Produce Movies/TV Show')\n",
    "\n",
    "plt.show()"
   ]
  },
  {
   "cell_type": "markdown",
   "metadata": {
    "papermill": {
     "duration": 0.055065,
     "end_time": "2021-03-09T08:47:44.899218",
     "exception": false,
     "start_time": "2021-03-09T08:47:44.844153",
     "status": "completed"
    },
    "slideshow": {
     "slide_type": "subslide"
    },
    "tags": []
   },
   "source": [
    ">## <span style=\"color:blue\">From the Horizontal bar chart we can see the United States, Inda, and the United Kingdom the highest 3 countries produce content on Netflix.</span>"
   ]
  },
  {
   "cell_type": "code",
   "execution_count": 28,
   "metadata": {
    "execution": {
     "iopub.execute_input": "2021-03-09T08:47:45.030538Z",
     "iopub.status.busy": "2021-03-09T08:47:45.026332Z",
     "iopub.status.idle": "2021-03-09T08:47:45.117894Z",
     "shell.execute_reply": "2021-03-09T08:47:45.117378Z"
    },
    "papermill": {
     "duration": 0.164538,
     "end_time": "2021-03-09T08:47:45.118048",
     "exception": false,
     "start_time": "2021-03-09T08:47:44.953510",
     "status": "completed"
    },
    "scrolled": true,
    "slideshow": {
     "slide_type": "slide"
    },
    "tags": []
   },
   "outputs": [
    {
     "data": {
      "image/png": "[encoded data removed]",
      "text/plain": [
       "<Figure size 432x288 with 1 Axes>"
      ]
     },
     "metadata": {
      "needs_background": "light"
     },
     "output_type": "display_data"
    }
   ],
   "source": [
    "## Check 5 number summary and outlier for release years for movies and tv shows \n",
    "plt.boxplot(df['release_year']);\n"
   ]
  },
  {
   "cell_type": "markdown",
   "metadata": {
    "papermill": {
     "duration": 0.055744,
     "end_time": "2021-03-09T08:47:45.230098",
     "exception": false,
     "start_time": "2021-03-09T08:47:45.174354",
     "status": "completed"
    },
    "slideshow": {
     "slide_type": "subslide"
    },
    "tags": []
   },
   "source": [
    "# Outliers data here is not erorr, it just recorded date for released content not anomalous or wrong data,beacuse it recorded from along time "
   ]
  },
  {
   "cell_type": "code",
   "execution_count": 29,
   "metadata": {
    "execution": {
     "iopub.execute_input": "2021-03-09T08:47:45.364019Z",
     "iopub.status.busy": "2021-03-09T08:47:45.362473Z",
     "iopub.status.idle": "2021-03-09T08:47:45.508719Z",
     "shell.execute_reply": "2021-03-09T08:47:45.509218Z"
    },
    "papermill": {
     "duration": 0.223938,
     "end_time": "2021-03-09T08:47:45.509431",
     "exception": false,
     "start_time": "2021-03-09T08:47:45.285493",
     "status": "completed"
    },
    "slideshow": {
     "slide_type": "subslide"
    },
    "tags": []
   },
   "outputs": [
    {
     "data": {
      "text/plain": [
       "Text(0, 0.5, 'Count Movies/TV Show produced')"
      ]
     },
     "execution_count": 29,
     "metadata": {},
     "output_type": "execute_result"
    },
    {
     "data": {
      "image/png": "[encoded data removed]",
      "text/plain": [
       "<Figure size 432x288 with 1 Axes>"
      ]
     },
     "metadata": {
      "needs_background": "light"
     },
     "output_type": "display_data"
    }
   ],
   "source": [
    "#Ploting Histogram to check data skewed\n",
    "\n",
    "bins=np.arange(1985,2020+5,5)\n",
    "plt.hist(df['release_year'],bins=bins);\n",
    "plt.xlabel('Release_Years')\n",
    "plt.ylabel('Count Movies/TV Show produced')"
   ]
  },
  {
   "cell_type": "markdown",
   "metadata": {
    "papermill": {
     "duration": 0.060752,
     "end_time": "2021-03-09T08:47:45.627878",
     "exception": false,
     "start_time": "2021-03-09T08:47:45.567126",
     "status": "completed"
    },
    "slideshow": {
     "slide_type": "subslide"
    },
    "tags": []
   },
   "source": [
    "### <span style=\"color:blue\">Left skewed Histogram for data  mean < median < mode  indcate increaseing content produce  from 1990 with high release  at 2019</span>"
   ]
  },
  {
   "cell_type": "code",
   "execution_count": 30,
   "metadata": {
    "execution": {
     "iopub.execute_input": "2021-03-09T08:47:45.744739Z",
     "iopub.status.busy": "2021-03-09T08:47:45.744050Z",
     "iopub.status.idle": "2021-03-09T08:47:45.860845Z",
     "shell.execute_reply": "2021-03-09T08:47:45.861378Z"
    },
    "papermill": {
     "duration": 0.176831,
     "end_time": "2021-03-09T08:47:45.861567",
     "exception": false,
     "start_time": "2021-03-09T08:47:45.684736",
     "status": "completed"
    },
    "slideshow": {
     "slide_type": "slide"
    },
    "tags": []
   },
   "outputs": [
    {
     "data": {
      "text/plain": [
       "Text(0.5, 0, 'added_year')"
      ]
     },
     "execution_count": 30,
     "metadata": {},
     "output_type": "execute_result"
    },
    {
     "data": {
      "image/png": "[encoded data removed]",
      "text/plain": [
       "<Figure size 432x288 with 1 Axes>"
      ]
     },
     "metadata": {
      "needs_background": "light"
     },
     "output_type": "display_data"
    }
   ],
   "source": [
    "## Check 5 number summary and outlier for added years for movies and tv shows on Netflix\n",
    "\n",
    "plt.boxplot(df['added_year']);\n",
    "plt.xlabel('added_year')"
   ]
  },
  {
   "cell_type": "markdown",
   "metadata": {
    "papermill": {
     "duration": 0.057636,
     "end_time": "2021-03-09T08:47:45.977338",
     "exception": false,
     "start_time": "2021-03-09T08:47:45.919702",
     "status": "completed"
    },
    "slideshow": {
     "slide_type": "subslide"
    },
    "tags": []
   },
   "source": [
    ">## <span style=\"color:blue\">Same for Added_Year Outliers data here is not erorr, it just recorded date for added years  content on netflix, not anomalous or wrong data.</span>"
   ]
  },
  {
   "cell_type": "code",
   "execution_count": 31,
   "metadata": {
    "execution": {
     "iopub.execute_input": "2021-03-09T08:47:46.097273Z",
     "iopub.status.busy": "2021-03-09T08:47:46.096631Z",
     "iopub.status.idle": "2021-03-09T08:47:46.265202Z",
     "shell.execute_reply": "2021-03-09T08:47:46.265735Z"
    },
    "papermill": {
     "duration": 0.230701,
     "end_time": "2021-03-09T08:47:46.265924",
     "exception": false,
     "start_time": "2021-03-09T08:47:46.035223",
     "status": "completed"
    },
    "scrolled": true,
    "slideshow": {
     "slide_type": "subslide"
    },
    "tags": []
   },
   "outputs": [
    {
     "data": {
      "image/png": "[encoded data removed]",
      "text/plain": [
       "<Figure size 432x288 with 1 Axes>"
      ]
     },
     "metadata": {
      "needs_background": "light"
     },
     "output_type": "display_data"
    }
   ],
   "source": [
    "#Ploting Histogram to check data skewed\n",
    "bins=np.arange(2014,2021,1)\n",
    "plt.hist(df['added_year'],bins=bins);\n",
    "plt.xlabel(\"Add Content Years\")\n",
    "plt.ylabel('Count Movies/TV Show Added');\n"
   ]
  },
  {
   "cell_type": "markdown",
   "metadata": {
    "papermill": {
     "duration": 0.05887,
     "end_time": "2021-03-09T08:47:46.384102",
     "exception": false,
     "start_time": "2021-03-09T08:47:46.325232",
     "status": "completed"
    },
    "slideshow": {
     "slide_type": "subslide"
    },
    "tags": []
   },
   "source": [
    ">### <span style=\"color:blue\">Left skewwed Histogram for data  mean < median < mode  indcate increaseing content added from 2015 with high added at 2019</span>"
   ]
  },
  {
   "cell_type": "markdown",
   "metadata": {
    "papermill": {
     "duration": 0.058589,
     "end_time": "2021-03-09T08:47:46.501760",
     "exception": false,
     "start_time": "2021-03-09T08:47:46.443171",
     "status": "completed"
    },
    "slideshow": {
     "slide_type": "slide"
    },
    "tags": []
   },
   "source": [
    "# *Bivariate Exploration*"
   ]
  },
  {
   "cell_type": "markdown",
   "metadata": {
    "papermill": {
     "duration": 0.060413,
     "end_time": "2021-03-09T08:47:46.620466",
     "exception": false,
     "start_time": "2021-03-09T08:47:46.560053",
     "status": "completed"
    },
    "slideshow": {
     "slide_type": "slide"
    },
    "tags": []
   },
   "source": [
    "## <span style=\"color:red\">3.Which day of the week has high increasing content (Movies and TV Show)add?</span>"
   ]
  },
  {
   "cell_type": "code",
   "execution_count": 32,
   "metadata": {
    "execution": {
     "iopub.execute_input": "2021-03-09T08:47:46.742459Z",
     "iopub.status.busy": "2021-03-09T08:47:46.741803Z",
     "iopub.status.idle": "2021-03-09T08:47:47.002356Z",
     "shell.execute_reply": "2021-03-09T08:47:47.002847Z"
    },
    "papermill": {
     "duration": 0.323537,
     "end_time": "2021-03-09T08:47:47.003032",
     "exception": false,
     "start_time": "2021-03-09T08:47:46.679495",
     "status": "completed"
    },
    "slideshow": {
     "slide_type": "subslide"
    },
    "tags": []
   },
   "outputs": [
    {
     "data": {
      "text/plain": [
       "Text(0.5, 1.0, 'Relation Between Day and Type of content')"
      ]
     },
     "execution_count": 32,
     "metadata": {},
     "output_type": "execute_result"
    },
    {
     "data": {
      "image/png": "[encoded data removed]",
      "text/plain": [
       "<Figure size 720x720 with 1 Axes>"
      ]
     },
     "metadata": {
      "needs_background": "light"
     },
     "output_type": "display_data"
    }
   ],
   "source": [
    "#Ploting seaborn countplot to Show the counts of observations in each categorical bin using bars.\n",
    "fig, ax = plt.subplots(figsize=(10,10))\n",
    "\n",
    "sb.countplot(data=df,x='added_day_name',hue='type',ax=ax)\n",
    "plt.xticks(rotation=15);\n",
    "plt.xlabel('Weekday Name')\n",
    "plt.title('Relation Between Day and Type of content')\n"
   ]
  },
  {
   "cell_type": "markdown",
   "metadata": {
    "papermill": {
     "duration": 0.060238,
     "end_time": "2021-03-09T08:47:47.123671",
     "exception": false,
     "start_time": "2021-03-09T08:47:47.063433",
     "status": "completed"
    },
    "slideshow": {
     "slide_type": "subslide"
    },
    "tags": []
   },
   "source": [
    ">>## <span style=\"color:blue\">Highest day Friday for added movies and TV Show </span>"
   ]
  },
  {
   "cell_type": "markdown",
   "metadata": {
    "papermill": {
     "duration": 0.060203,
     "end_time": "2021-03-09T08:47:47.244177",
     "exception": false,
     "start_time": "2021-03-09T08:47:47.183974",
     "status": "completed"
    },
    "slideshow": {
     "slide_type": "slide"
    },
    "tags": []
   },
   "source": [
    "# <span style=\"color:red\">4.Which type content rate highest for movies and tv show?</span>"
   ]
  },
  {
   "cell_type": "code",
   "execution_count": 33,
   "metadata": {
    "execution": {
     "iopub.execute_input": "2021-03-09T08:47:47.382768Z",
     "iopub.status.busy": "2021-03-09T08:47:47.381935Z",
     "iopub.status.idle": "2021-03-09T08:47:47.585506Z",
     "shell.execute_reply": "2021-03-09T08:47:47.584787Z"
    },
    "papermill": {
     "duration": 0.281376,
     "end_time": "2021-03-09T08:47:47.585660",
     "exception": false,
     "start_time": "2021-03-09T08:47:47.304284",
     "status": "completed"
    },
    "slideshow": {
     "slide_type": "subslide"
    },
    "tags": []
   },
   "outputs": [
    {
     "data": {
      "text/plain": [
       "<AxesSubplot:xlabel='target_ages', ylabel='count'>"
      ]
     },
     "execution_count": 33,
     "metadata": {},
     "output_type": "execute_result"
    },
    {
     "data": {
      "image/png": "[encoded data removed]",
      "text/plain": [
       "<Figure size 1080x648 with 1 Axes>"
      ]
     },
     "metadata": {
      "needs_background": "light"
     },
     "output_type": "display_data"
    }
   ],
   "source": [
    "plt.figure(figsize=(15,9))\n",
    "sb.countplot(data = df, x = 'target_ages', hue = 'type')\n",
    "#plt.xticks(rotation = 20);"
   ]
  },
  {
   "cell_type": "markdown",
   "metadata": {
    "papermill": {
     "duration": 0.061315,
     "end_time": "2021-03-09T08:47:47.710595",
     "exception": false,
     "start_time": "2021-03-09T08:47:47.649280",
     "status": "completed"
    },
    "slideshow": {
     "slide_type": "subslide"
    },
    "tags": []
   },
   "source": [
    ">>## <span style=\"color:blue\">Adult Movies the highest rate for movies and for TV show the highest rate Adult and Teens rate.</span>"
   ]
  },
  {
   "cell_type": "markdown",
   "metadata": {
    "papermill": {
     "duration": 0.062285,
     "end_time": "2021-03-09T08:47:47.835518",
     "exception": false,
     "start_time": "2021-03-09T08:47:47.773233",
     "status": "completed"
    },
    "slideshow": {
     "slide_type": "slide"
    },
    "tags": []
   },
   "source": [
    "# <span style=\"color:red\">5.What the highest year for release content Movies and TV Show?</spain>"
   ]
  },
  {
   "cell_type": "code",
   "execution_count": 34,
   "metadata": {
    "execution": {
     "iopub.execute_input": "2021-03-09T08:47:47.969101Z",
     "iopub.status.busy": "2021-03-09T08:47:47.968396Z",
     "iopub.status.idle": "2021-03-09T08:47:48.237934Z",
     "shell.execute_reply": "2021-03-09T08:47:48.237274Z"
    },
    "papermill": {
     "duration": 0.340186,
     "end_time": "2021-03-09T08:47:48.238087",
     "exception": false,
     "start_time": "2021-03-09T08:47:47.897901",
     "status": "completed"
    },
    "slideshow": {
     "slide_type": "subslide"
    },
    "tags": []
   },
   "outputs": [
    {
     "data": {
      "image/png": "[encoded data removed]",
      "text/plain": [
       "<Figure size 864x720 with 1 Axes>"
      ]
     },
     "metadata": {
      "needs_background": "light"
     },
     "output_type": "display_data"
    }
   ],
   "source": [
    "plt.figure(figsize=(12,10))\n",
    "sb.set(style=\"whitegrid\")\n",
    "\n",
    "ax = sb.countplot(y='release_year', data=df, palette=\"Set3\", order=df['release_year'].value_counts().index[0:15])"
   ]
  },
  {
   "cell_type": "markdown",
   "metadata": {
    "papermill": {
     "duration": 0.066747,
     "end_time": "2021-03-09T08:47:48.368426",
     "exception": false,
     "start_time": "2021-03-09T08:47:48.301679",
     "status": "completed"
    },
    "slideshow": {
     "slide_type": "subslide"
    },
    "tags": []
   },
   "source": [
    ">>### <span style=\"color:blue\">2018 the highest year for release content.</span>"
   ]
  },
  {
   "cell_type": "markdown",
   "metadata": {
    "papermill": {
     "duration": 0.061994,
     "end_time": "2021-03-09T08:47:48.493798",
     "exception": false,
     "start_time": "2021-03-09T08:47:48.431804",
     "status": "completed"
    },
    "slideshow": {
     "slide_type": "slide"
    },
    "tags": []
   },
   "source": [
    "# <span style=\"color:red\">6.What the highest year for to added content on Netflix?</span>"
   ]
  },
  {
   "cell_type": "code",
   "execution_count": 35,
   "metadata": {
    "execution": {
     "iopub.execute_input": "2021-03-09T08:47:48.627861Z",
     "iopub.status.busy": "2021-03-09T08:47:48.627136Z",
     "iopub.status.idle": "2021-03-09T08:47:48.872702Z",
     "shell.execute_reply": "2021-03-09T08:47:48.872047Z"
    },
    "papermill": {
     "duration": 0.317055,
     "end_time": "2021-03-09T08:47:48.872843",
     "exception": false,
     "start_time": "2021-03-09T08:47:48.555788",
     "status": "completed"
    },
    "slideshow": {
     "slide_type": "subslide"
    },
    "tags": []
   },
   "outputs": [
    {
     "data": {
      "image/png": "[encoded data removed]",
      "text/plain": [
       "<Figure size 864x720 with 1 Axes>"
      ]
     },
     "metadata": {},
     "output_type": "display_data"
    }
   ],
   "source": [
    "plt.figure(figsize=(12,10))\n",
    "\n",
    "ax = sb.countplot(y='added_year', data=df, palette=\"Set3\", order=df['added_year'].value_counts().index[0:15])\n"
   ]
  },
  {
   "cell_type": "markdown",
   "metadata": {
    "papermill": {
     "duration": 0.062921,
     "end_time": "2021-03-09T08:47:48.999531",
     "exception": false,
     "start_time": "2021-03-09T08:47:48.936610",
     "status": "completed"
    },
    "slideshow": {
     "slide_type": "subslide"
    },
    "tags": []
   },
   "source": [
    ">>### 2019 highest years for add content in Netflex"
   ]
  },
  {
   "cell_type": "markdown",
   "metadata": {
    "papermill": {
     "duration": 0.063755,
     "end_time": "2021-03-09T08:47:49.126442",
     "exception": false,
     "start_time": "2021-03-09T08:47:49.062687",
     "status": "completed"
    },
    "slideshow": {
     "slide_type": "slide"
    },
    "tags": []
   },
   "source": [
    "# *Multivariate Exploration*"
   ]
  },
  {
   "cell_type": "markdown",
   "metadata": {
    "papermill": {
     "duration": 0.06286,
     "end_time": "2021-03-09T08:47:49.252635",
     "exception": false,
     "start_time": "2021-03-09T08:47:49.189775",
     "status": "completed"
    },
    "slideshow": {
     "slide_type": "slide"
    },
    "tags": []
   },
   "source": [
    "# <span style=\"color:red\"> 7.What relation between released years and added years for Movies and TV Show on Netflix?</span>"
   ]
  },
  {
   "cell_type": "code",
   "execution_count": 36,
   "metadata": {
    "execution": {
     "iopub.execute_input": "2021-03-09T08:47:49.530512Z",
     "iopub.status.busy": "2021-03-09T08:47:49.507211Z",
     "iopub.status.idle": "2021-03-09T08:47:49.996618Z",
     "shell.execute_reply": "2021-03-09T08:47:49.996077Z"
    },
    "papermill": {
     "duration": 0.68044,
     "end_time": "2021-03-09T08:47:49.996765",
     "exception": false,
     "start_time": "2021-03-09T08:47:49.316325",
     "status": "completed"
    },
    "slideshow": {
     "slide_type": "subslide"
    },
    "tags": []
   },
   "outputs": [
    {
     "data": {
      "text/plain": [
       "<matplotlib.legend.Legend at 0x7f3751ceeed0>"
      ]
     },
     "execution_count": 36,
     "metadata": {},
     "output_type": "execute_result"
    },
    {
     "data": {
      "image/png": "[encoded data removed]",
      "text/plain": [
       "<Figure size 1080x648 with 2 Axes>"
      ]
     },
     "metadata": {},
     "output_type": "display_data"
    }
   ],
   "source": [
    "#Plotting line to get realtion between releasd movies and TVshow per year \n",
    "plt.figure(figsize=(15,9))\n",
    "plt.subplot(1, 2, 1)\n",
    "\n",
    "df.groupby('release_year')[\"type\"].count().plot(label=\"Total Movies/TV show \")\n",
    "df_movies.groupby('release_year')[\"type\"].count().plot(label=\"Total Movies \")\n",
    "df_tvshow.groupby('release_year')[\"type\"].count().plot(label=\"Total TV show \")\n",
    "plt.title(\"Movies/TV show Release Years\")\n",
    "plt.xlim([1990, 2022])\n",
    "\n",
    "#Plotting line to get realtion between added  movies and TVshow on Netflix per year and correleting with release plot \n",
    "\n",
    "plt.subplot(1, 2, 2)\n",
    "bins=np.arange(1970,2020,10)\n",
    "df.groupby('added_year')[\"type\"].count().plot(label=\"Total Movies/TV show  \")\n",
    "df_movies.groupby('added_year')[\"type\"].count().plot(label=\"Total Movies   \")\n",
    "df_tvshow.groupby('added_year')[\"type\"].count().plot(label=\"Total TV show  \")\n",
    "plt.title(\"Movies/TV show Added Years\")\n",
    "plt.legend()\n"
   ]
  },
  {
   "cell_type": "markdown",
   "metadata": {
    "papermill": {
     "duration": 0.067356,
     "end_time": "2021-03-09T08:47:50.131515",
     "exception": false,
     "start_time": "2021-03-09T08:47:50.064159",
     "status": "completed"
    },
    "slideshow": {
     "slide_type": "subslide"
    },
    "tags": []
   },
   "source": [
    ">>###  <span style=\"color:blue\">Produce Movies and TV Show increased  from 2000 and got high peak at 2018, But Netflix added content increased from 2014, reached high peak 2019.</span>"
   ]
  },
  {
   "cell_type": "code",
   "execution_count": 37,
   "metadata": {
    "execution": {
     "iopub.execute_input": "2021-03-09T08:47:50.273079Z",
     "iopub.status.busy": "2021-03-09T08:47:50.272178Z",
     "iopub.status.idle": "2021-03-09T08:47:50.892662Z",
     "shell.execute_reply": "2021-03-09T08:47:50.891980Z"
    },
    "papermill": {
     "duration": 0.694553,
     "end_time": "2021-03-09T08:47:50.892806",
     "exception": false,
     "start_time": "2021-03-09T08:47:50.198253",
     "status": "completed"
    },
    "slideshow": {
     "slide_type": "slide"
    },
    "tags": []
   },
   "outputs": [
    {
     "name": "stderr",
     "output_type": "stream",
     "text": [
      "/opt/conda/lib/python3.7/site-packages/seaborn/axisgrid.py:316: UserWarning: The `size` parameter has been renamed to `height`; please update your code.\n",
      "  warnings.warn(msg, UserWarning)\n"
     ]
    },
    {
     "data": {
      "image/png": "[encoded data removed]",
      "text/plain": [
       "<Figure size 591.1x504 with 1 Axes>"
      ]
     },
     "metadata": {},
     "output_type": "display_data"
    }
   ],
   "source": [
    "# Ploting scatter for release years and added years on netflex\n",
    "g = sb.FacetGrid(df,hue=\"type\",size=7)\n",
    "g.map_dataframe(sb.scatterplot, x=\"added_year\", y=\"release_year\")\n",
    "g.set_axis_labels('Added year','Release year')\n",
    "g.add_legend();"
   ]
  },
  {
   "cell_type": "markdown",
   "metadata": {
    "papermill": {
     "duration": 0.068706,
     "end_time": "2021-03-09T08:47:51.032069",
     "exception": false,
     "start_time": "2021-03-09T08:47:50.963363",
     "status": "completed"
    },
    "slideshow": {
     "slide_type": "subslide"
    },
    "tags": []
   },
   "source": [
    ">>### <span style=\"color:blue\">Produce Movies and TV Show increased from 2000 and got high peak at 2018, But Netflix added content increased from 2014, reached high peak 2019.¶</span>"
   ]
  },
  {
   "cell_type": "markdown",
   "metadata": {
    "papermill": {
     "duration": 0.067771,
     "end_time": "2021-03-09T08:47:51.168743",
     "exception": false,
     "start_time": "2021-03-09T08:47:51.100972",
     "status": "completed"
    },
    "slideshow": {
     "slide_type": "slide"
    },
    "tags": []
   },
   "source": [
    "## <span style=\"color:brown\">Conclustion from dataset</span>\n",
    "\n",
    "> Most content watched by adults\n",
    "\n",
    "> Movies content in Netflex more than TV SHows\n",
    "\n",
    "> Most Tv Show has one season \n",
    "\n",
    ">Most of Mean time for movies 100 Min's\n",
    "\n",
    "> Produce Movies and TV Show increased from 2000 and got high peak at 2018, But Netflix added content increased from 2014, reached high peak 2019.¶\n",
    "\n",
    "\n"
   ]
  },
  {
   "cell_type": "code",
   "execution_count": null,
   "metadata": {
    "papermill": {
     "duration": 0.06834,
     "end_time": "2021-03-09T08:47:51.304996",
     "exception": false,
     "start_time": "2021-03-09T08:47:51.236656",
     "status": "completed"
    },
    "slideshow": {
     "slide_type": "slide"
    },
    "tags": []
   },
   "outputs": [],
   "source": []
  }
 ],
 "metadata": {
  "kernelspec": {
   "display_name": "Python 3",
   "language": "python",
   "name": "python3"
  },
  "language_info": {
   "codemirror_mode": {
    "name": "ipython",
    "version": 3
   },
   "file_extension": ".py",
   "mimetype": "text/x-python",
   "name": "python",
   "nbconvert_exporter": "python",
   "pygments_lexer": "ipython3",
   "version": "3.8.5"
  },
  "papermill": {
   "default_parameters": {},
   "duration": 20.453504,
   "end_time": "2021-03-09T08:47:52.094404",
   "environment_variables": {},
   "exception": null,
   "input_path": "__notebook__.ipynb",
   "output_path": "__notebook__.ipynb",
   "parameters": {},
   "start_time": "2021-03-09T08:47:31.640900",
   "version": "2.2.2"
  }
 },
 "nbformat": 4,
 "nbformat_minor": 4
}
